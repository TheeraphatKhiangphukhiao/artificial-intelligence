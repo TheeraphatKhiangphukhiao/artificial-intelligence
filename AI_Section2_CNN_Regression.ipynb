{
  "nbformat": 4,
  "nbformat_minor": 0,
  "metadata": {
    "colab": {
      "provenance": [],
      "mount_file_id": "1bAxb-PYIkCV1FEhh5sT_NwG3f4mNBVpE",
      "authorship_tag": "ABX9TyNnU+h8jt3duf6wj1ImWnEr",
      "include_colab_link": true
    },
    "kernelspec": {
      "name": "python3",
      "display_name": "Python 3"
    },
    "language_info": {
      "name": "python"
    }
  },
  "cells": [
    {
      "cell_type": "markdown",
      "metadata": {
        "id": "view-in-github",
        "colab_type": "text"
      },
      "source": [
        "<a href=\"https://colab.research.google.com/github/TheeraphatKhiangphukhiao/artificial-intelligence/blob/main/AI_Section2_CNN_Regression.ipynb\" target=\"_parent\"><img src=\"https://colab.research.google.com/assets/colab-badge.svg\" alt=\"Open In Colab\"/></a>"
      ]
    },
    {
      "cell_type": "markdown",
      "source": [
        "**ให้อธิบายลักษณะของข้อมูล**\n",
        "\n",
        "เป็นข้อมูลตัวเลขทศนิยม มี Attribute 14 ตัว ตัวสุดท้ายคือคลาส y"
      ],
      "metadata": {
        "id": "VZnEFyzGs5sC"
      }
    },
    {
      "cell_type": "markdown",
      "source": [
        "**ทำการ Import Library ที่จำเป็น**"
      ],
      "metadata": {
        "id": "_YtaM77vQr2p"
      }
    },
    {
      "cell_type": "code",
      "source": [
        "from numpy import sqrt\n",
        "from pandas import read_csv\n",
        "from sklearn.model_selection import train_test_split\n",
        "from tensorflow.keras import Sequential\n",
        "from tensorflow.keras.layers import Dense\n",
        "import tensorflow as tf"
      ],
      "metadata": {
        "id": "7oj5p21vtIev"
      },
      "execution_count": null,
      "outputs": []
    },
    {
      "cell_type": "markdown",
      "source": [
        "**ทําการโหลดข้อมูล**"
      ],
      "metadata": {
        "id": "K-uJgyCltNYE"
      }
    },
    {
      "cell_type": "code",
      "source": [
        "# load the dataset\n",
        "path = 'https://raw.githubusercontent.com/jbrownlee/Datasets/master/housing.csv'\n",
        "df = read_csv(path, header=None)"
      ],
      "metadata": {
        "id": "6cUd2ReitO8h"
      },
      "execution_count": null,
      "outputs": []
    },
    {
      "cell_type": "markdown",
      "source": [
        "**ทําการแบ่งข้อมูล train และ test**"
      ],
      "metadata": {
        "id": "qO5sQkZXt0dP"
      }
    },
    {
      "cell_type": "code",
      "source": [
        "# split into input and output columns\n",
        "X, y = df.values[:, :-1], df.values[:, -1]\n",
        "\n",
        "# split into train and test dataset\n",
        "X_train, X_test, y_train, y_test = train_test_split(X, y, test_size=0.33)\n",
        "print(X_train.shape, X_test.shape, y_train.shape, y_test.shape)"
      ],
      "metadata": {
        "colab": {
          "base_uri": "https://localhost:8080/"
        },
        "id": "SUq__igst2Jx",
        "outputId": "76eaf945-6c5e-4fd2-decc-da3858694500"
      },
      "execution_count": null,
      "outputs": [
        {
          "output_type": "stream",
          "name": "stdout",
          "text": [
            "(339, 13) (167, 13) (339,) (167,)\n"
          ]
        }
      ]
    },
    {
      "cell_type": "markdown",
      "source": [
        "**ทําการนับจํานวนของ attributes ของข้อมูลเพื่อใช้ในการระบุเป็น input ของ network**"
      ],
      "metadata": {
        "id": "FrUZ5ZsKvLzv"
      }
    },
    {
      "cell_type": "code",
      "source": [
        "# determine the number of input features\n",
        "n_features = X_train.shape[1]"
      ],
      "metadata": {
        "id": "l6-oi8cZvNrg"
      },
      "execution_count": null,
      "outputs": []
    },
    {
      "cell_type": "markdown",
      "source": [
        "**ทําการสร้าง Network ของ model**"
      ],
      "metadata": {
        "id": "YvmRgkOUvnfn"
      }
    },
    {
      "cell_type": "code",
      "source": [
        "# define model\n",
        "model = Sequential()\n",
        "model.add(Dense(10, activation='relu', kernel_initializer='he_normal',\n",
        "                input_shape=(n_features, )))\n",
        "model.add(Dense(8, activation='relu', kernel_initializer='he_normal'))\n",
        "model.add(Dense(1))"
      ],
      "metadata": {
        "id": "nWpcRwDevouv"
      },
      "execution_count": null,
      "outputs": []
    },
    {
      "cell_type": "markdown",
      "source": [
        "**ทําการ Train model**"
      ],
      "metadata": {
        "id": "zuyMzKzzw04a"
      }
    },
    {
      "cell_type": "code",
      "source": [
        "# fit the model\n",
        "opt = tf.keras.optimizers.SGD(learning_rate=0.01, momentum=0.9)\n",
        "model.compile(optimizer=opt, loss='binary_crossentropy')\n",
        "model.fit(X_train, y_train, epochs=150, batch_size=32, verbose=0)"
      ],
      "metadata": {
        "colab": {
          "base_uri": "https://localhost:8080/"
        },
        "id": "puG35SyLw2ov",
        "outputId": "deca1bb6-0ffd-40ef-b6e5-4b1c52dd1354"
      },
      "execution_count": null,
      "outputs": [
        {
          "output_type": "execute_result",
          "data": {
            "text/plain": [
              "<keras.src.callbacks.History at 0x7cb6c4434100>"
            ]
          },
          "metadata": {},
          "execution_count": 24
        }
      ]
    },
    {
      "cell_type": "markdown",
      "source": [
        "**ทําการประเมินผล model**"
      ],
      "metadata": {
        "id": "QDkz0c5Gysu6"
      }
    },
    {
      "cell_type": "code",
      "source": [
        "# evaluate the model\n",
        "error = model.evaluate(X_test, y_test, verbose=0)\n",
        "print(f'MSE: {error:.3f}, RMSE: {sqrt(error):.3f}')"
      ],
      "metadata": {
        "colab": {
          "base_uri": "https://localhost:8080/"
        },
        "id": "T1O1d9Z3yuJJ",
        "outputId": "e94ea5f9-46e8-40ec-e79e-43021e55b5c3"
      },
      "execution_count": null,
      "outputs": [
        {
          "output_type": "stream",
          "name": "stdout",
          "text": [
            "MSE: -332.844, RMSE: nan\n"
          ]
        },
        {
          "output_type": "stream",
          "name": "stderr",
          "text": [
            "<ipython-input-25-1c14f70f09fb>:3: RuntimeWarning: invalid value encountered in sqrt\n",
            "  print(f'MSE: {error:.3f}, RMSE: {sqrt(error):.3f}')\n"
          ]
        }
      ]
    },
    {
      "cell_type": "markdown",
      "source": [
        "**ทําการนํา model ไปใช้งาน**"
      ],
      "metadata": {
        "id": "soU5JMeC1Qt1"
      }
    },
    {
      "cell_type": "code",
      "source": [
        "# make a prediction\n",
        "row = [0.00632, 18.00, 2.310, 0, 0.5380, 6.5750, 65.20, 4.0900, 1, 296.0, 15.30, 396.90, 4.98]\n",
        "yhat = model.predict([row])\n",
        "print(f'Predicted: {yhat}')"
      ],
      "metadata": {
        "colab": {
          "base_uri": "https://localhost:8080/"
        },
        "id": "np-LIcQA1R5R",
        "outputId": "d4d514cb-8fce-407c-b5ed-2a7535b87a91"
      },
      "execution_count": null,
      "outputs": [
        {
          "output_type": "stream",
          "name": "stdout",
          "text": [
            "1/1 [==============================] - 0s 94ms/step\n",
            "Predicted: [[282.5028]]\n"
          ]
        }
      ]
    },
    {
      "cell_type": "code",
      "source": [
        "# save model to file\n",
        "model.save('/content/drive/MyDrive/AI Deep Learning/Save Model Deep Learning/model.h4')"
      ],
      "metadata": {
        "id": "9-e8iIxEJR7K"
      },
      "execution_count": null,
      "outputs": []
    }
  ]
}